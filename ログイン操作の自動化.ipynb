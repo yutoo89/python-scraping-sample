{
 "cells": [
  {
   "cell_type": "code",
   "execution_count": 1,
   "id": "72093c2d",
   "metadata": {},
   "outputs": [],
   "source": [
    "from selenium import webdriver"
   ]
  },
  {
   "cell_type": "code",
   "execution_count": 2,
   "id": "129232ea",
   "metadata": {},
   "outputs": [],
   "source": [
    "from time import sleep"
   ]
  },
  {
   "cell_type": "code",
   "execution_count": 3,
   "id": "24adbcad",
   "metadata": {},
   "outputs": [],
   "source": [
    "# ブラウザの起動と終了\n",
    "# browser = webdriver.Chrome()\n",
    "# browser.quit()"
   ]
  },
  {
   "cell_type": "code",
   "execution_count": 4,
   "id": "270bd373",
   "metadata": {},
   "outputs": [],
   "source": [
    "# selenium4からはfind_elementの書き方が変わっているらしい\n",
    "# https://www.selenium.dev/ja/documentation/webdriver/elements/finders/\n",
    "# 下記のByをimportして第一引数で何で検索するかを指定する\n",
    "from selenium.webdriver.common.by import By"
   ]
  },
  {
   "cell_type": "code",
   "execution_count": 5,
   "id": "17c31a07",
   "metadata": {},
   "outputs": [],
   "source": [
    "browser = webdriver.Chrome()"
   ]
  },
  {
   "cell_type": "markdown",
   "id": "9764d189",
   "metadata": {},
   "source": [
    "# usernameとpasswordを入力してログイン"
   ]
  },
  {
   "cell_type": "code",
   "execution_count": 6,
   "id": "5e7a004b",
   "metadata": {},
   "outputs": [],
   "source": [
    "# 指定したURLにアクセス\n",
    "url = 'https://scraping-for-beginner.herokuapp.com/login_page'\n",
    "browser.get(url)"
   ]
  },
  {
   "cell_type": "markdown",
   "id": "72970940",
   "metadata": {},
   "source": [
    "## 要素の取得と入力"
   ]
  },
  {
   "cell_type": "code",
   "execution_count": 7,
   "id": "a6306455",
   "metadata": {},
   "outputs": [],
   "source": [
    "# usernameとpasswordを入力してログイン\n",
    "# Command + option + i で検証ツールを開く\n",
    "elem_username = browser.find_element(By.ID, 'username')\n",
    "elem_username.send_keys('imanishi')"
   ]
  },
  {
   "cell_type": "code",
   "execution_count": 8,
   "id": "3aa9f573",
   "metadata": {},
   "outputs": [],
   "source": [
    "elem_password = browser.find_element(By.ID, 'password')\n",
    "elem_password.send_keys('kohei')"
   ]
  },
  {
   "cell_type": "code",
   "execution_count": 9,
   "id": "c577ce07",
   "metadata": {},
   "outputs": [],
   "source": [
    "elem_login_btn = browser.find_element(By.ID, 'login-btn')\n",
    "elem_login_btn.click()"
   ]
  },
  {
   "cell_type": "code",
   "execution_count": 10,
   "id": "80bcfbb9",
   "metadata": {},
   "outputs": [],
   "source": [
    "sleep(3)\n",
    "browser.quit()"
   ]
  },
  {
   "cell_type": "markdown",
   "id": "2e4ca17d",
   "metadata": {},
   "source": [
    "# ヘッドレスモード\n",
    "\n",
    "画面が動くことを確認する必要がない場合や画面を表示することができない場合にヘッドレスモードを使う。"
   ]
  },
  {
   "cell_type": "code",
   "execution_count": 11,
   "id": "fe9b66b7",
   "metadata": {},
   "outputs": [],
   "source": [
    "from selenium.webdriver.chrome.options import Options"
   ]
  },
  {
   "cell_type": "code",
   "execution_count": 12,
   "id": "c4604614",
   "metadata": {},
   "outputs": [],
   "source": [
    "options = Options()"
   ]
  },
  {
   "cell_type": "code",
   "execution_count": 13,
   "id": "110c6cf9",
   "metadata": {},
   "outputs": [],
   "source": [
    "options.add_argument('--headless')"
   ]
  },
  {
   "cell_type": "code",
   "execution_count": 14,
   "id": "7d7172be",
   "metadata": {},
   "outputs": [],
   "source": [
    "browser = webdriver.Chrome(options=options)\n",
    "url = 'https://scraping-for-beginner.herokuapp.com/login_page'\n",
    "browser.get(url)"
   ]
  },
  {
   "cell_type": "code",
   "execution_count": 15,
   "id": "9f0d1c18",
   "metadata": {},
   "outputs": [],
   "source": [
    "browser.quit()"
   ]
  }
 ],
 "metadata": {
  "kernelspec": {
   "display_name": "Python 3 (ipykernel)",
   "language": "python",
   "name": "python3"
  },
  "language_info": {
   "codemirror_mode": {
    "name": "ipython",
    "version": 3
   },
   "file_extension": ".py",
   "mimetype": "text/x-python",
   "name": "python",
   "nbconvert_exporter": "python",
   "pygments_lexer": "ipython3",
   "version": "3.9.13"
  }
 },
 "nbformat": 4,
 "nbformat_minor": 5
}
